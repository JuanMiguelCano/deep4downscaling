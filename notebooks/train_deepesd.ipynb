{
 "cells": [
  {
   "cell_type": "markdown",
   "id": "3c5f008e-3c02-4d7e-8c18-d5f98acd84e2",
   "metadata": {},
   "source": [
    "## Training of the DeepESD model"
   ]
  },
  {
   "cell_type": "code",
   "execution_count": 1,
   "id": "dbf0fece-5aca-4dda-b225-4d9312a94302",
   "metadata": {},
   "outputs": [],
   "source": [
    "DATA_PATH = './data'\n",
    "FIGURES_PATH = './figures'\n",
    "MODELS_PATH = './models'"
   ]
  },
  {
   "cell_type": "code",
   "execution_count": 7,
   "id": "31ad4df3-e0a1-42b5-9809-406360f25b0f",
   "metadata": {},
   "outputs": [],
   "source": [
    "import xarray as xr\n",
    "from IPython.display import IFrame\n",
    "\n",
    "import sys; sys.path.append('../')\n",
    "import deep4downscaling"
   ]
  },
  {
   "cell_type": "code",
   "execution_count": 3,
   "id": "2a9d8bb6-4937-49ad-a894-6df0419cbc0a",
   "metadata": {},
   "outputs": [
    {
     "name": "stdout",
     "output_type": "stream",
     "text": [
      "<xarray.Dataset> Size: 1GB\n",
      "Dimensions:  (lon: 42, lat: 31, time: 16071)\n",
      "Coordinates:\n",
      "  * lon      (lon) float64 336B -39.0 -37.5 -36.0 -34.5 ... 18.0 19.5 21.0 22.5\n",
      "  * lat      (lat) float64 248B 23.5 25.0 26.5 28.0 29.5 ... 64.0 65.5 67.0 68.5\n",
      "  * time     (time) datetime64[ns] 129kB 1979-01-01 1979-01-02 ... 2022-12-31\n",
      "Data variables: (12/13)\n",
      "    t500     (time, lat, lon) float32 84MB ...\n",
      "    t700     (time, lat, lon) float32 84MB ...\n",
      "    t850     (time, lat, lon) float32 84MB ...\n",
      "    q500     (time, lat, lon) float32 84MB ...\n",
      "    q700     (time, lat, lon) float32 84MB ...\n",
      "    q850     (time, lat, lon) float32 84MB ...\n",
      "    ...       ...\n",
      "    v700     (time, lat, lon) float32 84MB ...\n",
      "    v850     (time, lat, lon) float32 84MB ...\n",
      "    u500     (time, lat, lon) float32 84MB ...\n",
      "    u700     (time, lat, lon) float32 84MB ...\n",
      "    u850     (time, lat, lon) float32 84MB ...\n",
      "    msl      (time, lat, lon) float32 84MB ...\n",
      "Attributes:\n",
      "    Conventions:  CF-1.6\n",
      "    history:      2023-06-06 07:20:26 GMT by grib_to_netcdf-2.25.1: /opt/ecmw...\n"
     ]
    }
   ],
   "source": [
    "# Load predictors\n",
    "predictor_filename = f'{DATA_PATH}/ERA5_NorthAtlanticRegion_1-5dg_full.nc'\n",
    "predictor = xr.open_dataset(predictor_filename)\n",
    "print(predictor)"
   ]
  },
  {
   "cell_type": "code",
   "execution_count": 11,
   "id": "0b843ede-1388-410a-9ada-1ef0e21ad5b6",
   "metadata": {},
   "outputs": [
    {
     "data": {
      "text/html": [
       "\n",
       "        <iframe\n",
       "            width=\"1000\"\n",
       "            height=\"500\"\n",
       "            src=\"././figures/predictor_climatology.pdf\"\n",
       "            frameborder=\"0\"\n",
       "            allowfullscreen\n",
       "            \n",
       "        ></iframe>\n",
       "        "
      ],
      "text/plain": [
       "<IPython.lib.display.IFrame at 0x7f02158fe630>"
      ]
     },
     "execution_count": 11,
     "metadata": {},
     "output_type": "execute_result"
    }
   ],
   "source": [
    "# Visualize predictors\n",
    "fig_predictor_climatology_path = f'./{FIGURES_PATH}/predictor_climatology.pdf'\n",
    "deep4downscaling.viz.multiple_map_plot(data=predictor.mean('time'),\n",
    "                                       output_path=fig_predictor_climatology_path)\n",
    "IFrame(fig_predictor_climatology_path, width=1000, height=500)"
   ]
  },
  {
   "cell_type": "code",
   "execution_count": 33,
   "id": "a5fe9800-ae6b-4dbb-a611-db0f4c6e0f05",
   "metadata": {},
   "outputs": [
    {
     "name": "stdout",
     "output_type": "stream",
     "text": [
      "<xarray.Dataset> Size: 10GB\n",
      "Dimensions:  (lon: 400, lat: 251, time: 25933)\n",
      "Coordinates:\n",
      "  * lon      (lon) float64 3kB -13.18 -13.12 -13.07 -13.02 ... 6.675 6.725 6.775\n",
      "  * lat      (lat) float64 2kB 33.48 33.52 33.57 33.62 ... 45.87 45.92 45.97\n",
      "  * time     (time) datetime64[ns] 207kB 1951-01-01 1951-01-02 ... 2021-12-31\n",
      "Data variables:\n",
      "    pr       (time, lat, lon) float32 10GB ...\n"
     ]
    }
   ],
   "source": [
    "# Load predictand\n",
    "predictand_filename = f'{DATA_PATH}/pr_AEMET.nc'\n",
    "predictand = xr.open_dataset(predictand_filename)\n",
    "print(predictand)"
   ]
  },
  {
   "cell_type": "code",
   "execution_count": 38,
   "id": "b22b0ffb-8c37-4204-81d9-43e43389b5d6",
   "metadata": {},
   "outputs": [
    {
     "data": {
      "text/html": [
       "\n",
       "        <iframe\n",
       "            width=\"500\"\n",
       "            height=\"500\"\n",
       "            src=\"././figures/predictand_day.pdf\"\n",
       "            frameborder=\"0\"\n",
       "            allowfullscreen\n",
       "            \n",
       "        ></iframe>\n",
       "        "
      ],
      "text/plain": [
       "<IPython.lib.display.IFrame at 0x7f021566c5f0>"
      ]
     },
     "execution_count": 38,
     "metadata": {},
     "output_type": "execute_result"
    }
   ],
   "source": [
    "# Visualize predictand\n",
    "day_to_viz = '10-04-2015'\n",
    "fig_predictand_day_path = f'./{FIGURES_PATH}/predictand_day.pdf'\n",
    "deep4downscaling.viz.simple_map_plot(data=predictand.sel(time=day_to_viz),\n",
    "                                     colorbar='hot_r', var_to_plot='pr',\n",
    "                                     output_path=fig_predictand_day_path)\n",
    "IFrame(fig_predictand_day_path, width=500, height=500)"
   ]
  },
  {
   "cell_type": "code",
   "execution_count": 39,
   "id": "7711e216-1302-4bcf-b6af-5f7dae2443f1",
   "metadata": {},
   "outputs": [
    {
     "name": "stdout",
     "output_type": "stream",
     "text": [
      "There are no observations containing null values\n"
     ]
    }
   ],
   "source": [
    "# Remove days with nans in the predictor\n",
    "predictor = trans.remove_days_with_nans(predictor)"
   ]
  },
  {
   "cell_type": "code",
   "execution_count": 40,
   "id": "db052ac9-61a2-40c7-ae3c-501d27329718",
   "metadata": {},
   "outputs": [],
   "source": [
    "# Align both datasets in time\n",
    "predictor, predictand = trans.align_datasets(predictor, predictand, 'time')"
   ]
  },
  {
   "cell_type": "code",
   "execution_count": 41,
   "id": "9e3fcbc8-365d-4b8c-bbbc-8d4ee88b1f77",
   "metadata": {},
   "outputs": [],
   "source": [
    "# Subset into training and test sets\n",
    "years_train = ('1980', '2010')\n",
    "years_test = ('2011', '2020')\n",
    "\n",
    "x_train = predictor.sel(time=slice(*years_train))\n",
    "y_train = predictand.sel(time=slice(*years_train))\n",
    "\n",
    "x_test = predictor.sel(time=slice(*years_test))\n",
    "y_test = predictand.sel(time=slice(*years_test))"
   ]
  },
  {
   "cell_type": "code",
   "execution_count": null,
   "id": "126affa4-b763-414f-8e06-679aa2e72c91",
   "metadata": {},
   "outputs": [],
   "source": []
  }
 ],
 "metadata": {
  "kernelspec": {
   "display_name": "deep4downscaling-gpu",
   "language": "python",
   "name": "deep4downscaling-gpu"
  },
  "language_info": {
   "codemirror_mode": {
    "name": "ipython",
    "version": 3
   },
   "file_extension": ".py",
   "mimetype": "text/x-python",
   "name": "python",
   "nbconvert_exporter": "python",
   "pygments_lexer": "ipython3",
   "version": "3.12.0"
  }
 },
 "nbformat": 4,
 "nbformat_minor": 5
}
